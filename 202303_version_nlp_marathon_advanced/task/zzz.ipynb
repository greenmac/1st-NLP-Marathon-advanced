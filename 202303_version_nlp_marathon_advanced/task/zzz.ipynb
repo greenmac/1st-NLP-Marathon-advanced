{
 "cells": [
  {
   "cell_type": "code",
   "execution_count": 19,
   "metadata": {},
   "outputs": [],
   "source": [
    "import numpy as np\n",
    "import torch"
   ]
  },
  {
   "cell_type": "code",
   "execution_count": 31,
   "metadata": {},
   "outputs": [
    {
     "name": "stdout",
     "output_type": "stream",
     "text": [
      "torch.Size([2, 2, 3])\n",
      "tensor([[[1, 2, 3],\n",
      "         [3, 4, 5]],\n",
      "\n",
      "        [[5, 6, 7],\n",
      "         [7, 8, 9]]])\n"
     ]
    }
   ],
   "source": [
    "# 創健tensor\n",
    "a = torch.tensor([[[1, 2, 3], [3, 4, 5]],\n",
    "\t\t\t\t\t\t\t\t\t[[5, 6, 7], [7, 8, 9]]])\n",
    "print(a.shape)\n",
    "print(a)"
   ]
  },
  {
   "cell_type": "code",
   "execution_count": 38,
   "metadata": {},
   "outputs": [
    {
     "name": "stdout",
     "output_type": "stream",
     "text": [
      "torch.Size([2, 6]) torch.Size([2, 6]) torch.Size([2, 6])\n"
     ]
    },
    {
     "data": {
      "text/plain": [
       "(tensor([[1, 2, 3, 3, 4, 5],\n",
       "         [5, 6, 7, 7, 8, 9]]),\n",
       " tensor([[1, 2, 3, 3, 4, 5],\n",
       "         [5, 6, 7, 7, 8, 9]]),\n",
       " tensor([[1, 2, 3, 3, 4, 5],\n",
       "         [5, 6, 7, 7, 8, 9]]))"
      ]
     },
     "execution_count": 38,
     "metadata": {},
     "output_type": "execute_result"
    }
   ],
   "source": [
    "# 將tensor形狀由[2,2,3]改為[2,6]\n",
    "b = a.reshape(2, 6)\n",
    "c = a.view(2,6)\n",
    "d = a.reshape(2,-1)\n",
    "print(b.shape, c.shape, d.shape)\n",
    "b,c,d"
   ]
  },
  {
   "cell_type": "code",
   "execution_count": 41,
   "metadata": {},
   "outputs": [
    {
     "name": "stdout",
     "output_type": "stream",
     "text": [
      "torch.Size([2, 3, 2]) torch.Size([2, 3, 2])\n"
     ]
    },
    {
     "data": {
      "text/plain": [
       "(tensor([[[1, 3],\n",
       "          [2, 4],\n",
       "          [3, 5]],\n",
       " \n",
       "         [[5, 7],\n",
       "          [6, 8],\n",
       "          [7, 9]]]),\n",
       " tensor([[[1, 3],\n",
       "          [2, 4],\n",
       "          [3, 5]],\n",
       " \n",
       "         [[5, 7],\n",
       "          [6, 8],\n",
       "          [7, 9]]]))"
      ]
     },
     "execution_count": 41,
     "metadata": {},
     "output_type": "execute_result"
    }
   ],
   "source": [
    "e = a.permute((0, 2, 1))\n",
    "f = a.transpose(1,2)\n",
    "print(e.shape, f.shape)\n",
    "e, f"
   ]
  },
  {
   "cell_type": "code",
   "execution_count": 43,
   "metadata": {},
   "outputs": [
    {
     "name": "stdout",
     "output_type": "stream",
     "text": [
      "torch.Size([2, 1, 2, 3]) torch.Size([2, 2, 3])\n"
     ]
    },
    {
     "data": {
      "text/plain": [
       "(tensor([[[[1, 2, 3],\n",
       "           [3, 4, 5]]],\n",
       " \n",
       " \n",
       "         [[[5, 6, 7],\n",
       "           [7, 8, 9]]]]),\n",
       " tensor([[[1, 2, 3],\n",
       "          [3, 4, 5]],\n",
       " \n",
       "         [[5, 6, 7],\n",
       "          [7, 8, 9]]]))"
      ]
     },
     "execution_count": 43,
     "metadata": {},
     "output_type": "execute_result"
    }
   ],
   "source": [
    "# 增加張量維度\n",
    "g = torch.unsqueeze(a, dim=1) #增加維度在1的位置\n",
    "h = torch.squeeze(g) #壓縮為度為1的位置\n",
    "print(g.shape, h.shape)\n",
    "g, h"
   ]
  },
  {
   "cell_type": "code",
   "execution_count": null,
   "metadata": {},
   "outputs": [],
   "source": []
  }
 ],
 "metadata": {
  "kernelspec": {
   "display_name": "py310",
   "language": "python",
   "name": "python3"
  },
  "language_info": {
   "codemirror_mode": {
    "name": "ipython",
    "version": 3
   },
   "file_extension": ".py",
   "mimetype": "text/x-python",
   "name": "python",
   "nbconvert_exporter": "python",
   "pygments_lexer": "ipython3",
   "version": "3.10.10"
  },
  "orig_nbformat": 4
 },
 "nbformat": 4,
 "nbformat_minor": 2
}

{
 "cells": [
  {
   "cell_type": "code",
   "execution_count": 49,
   "metadata": {},
   "outputs": [],
   "source": [
    "import numpy as np\n",
    "import torch"
   ]
  },
  {
   "cell_type": "code",
   "execution_count": 50,
   "metadata": {},
   "outputs": [
    {
     "data": {
      "text/plain": [
       "(tensor([[0.2973, 0.9311],\n",
       "         [0.8770, 0.0714]]),\n",
       " tensor([[0.1484, 0.2476],\n",
       "         [0.0575, 0.6214]]),\n",
       " tensor([[0.7185, 0.5685],\n",
       "         [0.0034, 0.0150]], requires_grad=True),\n",
       " tensor([[0.4457, 1.1787],\n",
       "         [0.9345, 0.6928]]),\n",
       " tensor([[1.1642, 1.7472],\n",
       "         [0.9379, 0.7078]], grad_fn=<AddBackward0>))"
      ]
     },
     "execution_count": 50,
     "metadata": {},
     "output_type": "execute_result"
    }
   ],
   "source": [
    "#創建tensor\n",
    "x = torch.rand((2,2))\n",
    "y = torch.rand((2,2))\n",
    "z = torch.rand((2,2), requires_grad=True)\n",
    "a = x+y\n",
    "b = z+a\n",
    "x,y,z,a,b"
   ]
  },
  {
   "cell_type": "code",
   "execution_count": 51,
   "metadata": {},
   "outputs": [
    {
     "name": "stdout",
     "output_type": "stream",
     "text": [
      "x:False,y:False,z:True\n",
      "a: False, b: True\n"
     ]
    }
   ],
   "source": [
    "# 查看requires_grad\n",
    "print(f'x:{x.requires_grad},y:{y.requires_grad},z:{z.requires_grad}')\n",
    "print(f'a: {a.requires_grad}, b: {b.requires_grad}')"
   ]
  },
  {
   "cell_type": "code",
   "execution_count": 52,
   "metadata": {},
   "outputs": [
    {
     "name": "stdout",
     "output_type": "stream",
     "text": [
      "x: None, y: None, z: None\n",
      "a: None, b: <AddBackward0 object at 0x15c2ff730>\n"
     ]
    }
   ],
   "source": [
    "#查看grad_fn\n",
    "print(f'x: {x.grad_fn}, y: {y.grad_fn}, z: {z.grad_fn}')\n",
    "print(f'a: {a.grad_fn}, b: {b.grad_fn}')"
   ]
  },
  {
   "cell_type": "code",
   "execution_count": 53,
   "metadata": {},
   "outputs": [
    {
     "data": {
      "text/plain": [
       "tensor([[1., 1.],\n",
       "        [1., 1.]], requires_grad=True)"
      ]
     },
     "execution_count": 53,
     "metadata": {},
     "output_type": "execute_result"
    }
   ],
   "source": [
    "#創建tensor\n",
    "x = torch.ones((2,2), requires_grad=True)\n",
    "x"
   ]
  },
  {
   "cell_type": "code",
   "execution_count": 54,
   "metadata": {},
   "outputs": [
    {
     "data": {
      "text/plain": [
       "(tensor([[3., 3.],\n",
       "         [3., 3.]], grad_fn=<AddBackward0>),\n",
       " True)"
      ]
     },
     "execution_count": 54,
     "metadata": {},
     "output_type": "execute_result"
    }
   ],
   "source": [
    "#以加法創建新tensor\n",
    "y = x + 2\n",
    "y, y.requires_grad"
   ]
  },
  {
   "cell_type": "code",
   "execution_count": 55,
   "metadata": {},
   "outputs": [
    {
     "name": "stdout",
     "output_type": "stream",
     "text": [
      "tensor([[27., 27.],\n",
      "        [27., 27.]], grad_fn=<MulBackward0>)\n",
      "tensor(27., grad_fn=<MeanBackward0>)\n"
     ]
    }
   ],
   "source": [
    "z = y*y*3\n",
    "out = z.mean()\n",
    "print(z)\n",
    "print(out)"
   ]
  },
  {
   "cell_type": "code",
   "execution_count": 56,
   "metadata": {},
   "outputs": [
    {
     "name": "stdout",
     "output_type": "stream",
     "text": [
      "None\n",
      "<AddBackward0 object at 0x15c2ffe20>\n",
      "<MulBackward0 object at 0x15c2fece0>\n",
      "<MeanBackward0 object at 0x15c2ffe20>\n"
     ]
    }
   ],
   "source": [
    "print(x.grad_fn)\n",
    "print(y.grad_fn)\n",
    "print(z.grad_fn)\n",
    "print(out.grad_fn)"
   ]
  },
  {
   "cell_type": "code",
   "execution_count": 57,
   "metadata": {},
   "outputs": [],
   "source": [
    "#計算微分\n",
    "w = out.backward()"
   ]
  },
  {
   "cell_type": "code",
   "execution_count": 58,
   "metadata": {},
   "outputs": [
    {
     "name": "stdout",
     "output_type": "stream",
     "text": [
      "None\n"
     ]
    }
   ],
   "source": [
    "print(x.grad_fn)"
   ]
  },
  {
   "cell_type": "code",
   "execution_count": null,
   "metadata": {},
   "outputs": [],
   "source": []
  }
 ],
 "metadata": {
  "kernelspec": {
   "display_name": "py310",
   "language": "python",
   "name": "python3"
  },
  "language_info": {
   "codemirror_mode": {
    "name": "ipython",
    "version": 3
   },
   "file_extension": ".py",
   "mimetype": "text/x-python",
   "name": "python",
   "nbconvert_exporter": "python",
   "pygments_lexer": "ipython3",
   "version": "3.10.10"
  },
  "orig_nbformat": 4,
  "vscode": {
   "interpreter": {
    "hash": "7af69d84c46e0da4f71f361435e72c01e713b5d1fcbc89c051c042527a934273"
   }
  }
 },
 "nbformat": 4,
 "nbformat_minor": 2
}
